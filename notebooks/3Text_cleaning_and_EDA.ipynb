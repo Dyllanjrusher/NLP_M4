{
 "cells": [
  {
   "cell_type": "code",
   "execution_count": 40,
   "metadata": {},
   "outputs": [],
   "source": [
    "import pandas as pd\n",
    "from pyfuncs import text_funcs\n",
    "from yellowbrick.text import TSNEVisualizer"
   ]
  },
  {
   "cell_type": "code",
   "execution_count": 41,
   "metadata": {},
   "outputs": [
    {
     "name": "stdout",
     "output_type": "stream",
     "text": [
      "1Scraping_tests.ipynb                                laptop_Xy.pkl\r\n",
      "2Small_Corpus_Gathering.ipynb                        laptop_corpus.pkl\r\n",
      "3Text_cleaning_and_EDA.ipynb                         laptop_corpus_df.pkl\r\n",
      "4Supervised_sentiment_analysis_basic.ipynb           proxy_list\r\n",
      "5Supervised_sentiment_analysis_classification.ipynb  \u001b[0m\u001b[01;34mpyfuncs\u001b[0m/\r\n",
      "6Collecting_more_review_data.ipynb\r\n"
     ]
    }
   ],
   "source": [
    "%ls"
   ]
  },
  {
   "cell_type": "code",
   "execution_count": 42,
   "metadata": {},
   "outputs": [],
   "source": [
    "corpus_df = pd.read_pickle('laptop_corpus.pkl')\n",
    "corpus = corpus_df['review']\n",
    "clean_corpus = text_funcs.cleaner(corpus)\n",
    "corpus_df['review'] = clean_corpus"
   ]
  },
  {
   "cell_type": "code",
   "execution_count": 43,
   "metadata": {},
   "outputs": [
    {
     "data": {
      "text/html": [
       "<div>\n",
       "<style scoped>\n",
       "    .dataframe tbody tr th:only-of-type {\n",
       "        vertical-align: middle;\n",
       "    }\n",
       "\n",
       "    .dataframe tbody tr th {\n",
       "        vertical-align: top;\n",
       "    }\n",
       "\n",
       "    .dataframe thead th {\n",
       "        text-align: right;\n",
       "    }\n",
       "</style>\n",
       "<table border=\"1\" class=\"dataframe\">\n",
       "  <thead>\n",
       "    <tr style=\"text-align: right;\">\n",
       "      <th></th>\n",
       "      <th>listing</th>\n",
       "      <th>overall_rating</th>\n",
       "      <th>price</th>\n",
       "      <th>link</th>\n",
       "      <th>review</th>\n",
       "      <th>review_ratings</th>\n",
       "    </tr>\n",
       "  </thead>\n",
       "  <tbody>\n",
       "    <tr>\n",
       "      <th>0</th>\n",
       "      <td>Apple - MacBook Pro - 16\" Display with Touch B...</td>\n",
       "      <td>4.8</td>\n",
       "      <td>$2,099.99</td>\n",
       "      <td>https://www.google.com/aclk?sa=L&amp;ai=DChcSEwjHg...</td>\n",
       "      <td>almost a home run but pretty decent full discl...</td>\n",
       "      <td>4</td>\n",
       "    </tr>\n",
       "    <tr>\n",
       "      <th>1</th>\n",
       "      <td>Apple - MacBook Pro - 16\" Display with Touch B...</td>\n",
       "      <td>4.8</td>\n",
       "      <td>$2,099.99</td>\n",
       "      <td>https://www.google.com/aclk?sa=L&amp;ai=DChcSEwjHg...</td>\n",
       "      <td>this is the latest i bought the pro inch on wh...</td>\n",
       "      <td>5</td>\n",
       "    </tr>\n",
       "    <tr>\n",
       "      <th>2</th>\n",
       "      <td>Apple - MacBook Pro - 16\" Display with Touch B...</td>\n",
       "      <td>4.8</td>\n",
       "      <td>$2,099.99</td>\n",
       "      <td>https://www.google.com/aclk?sa=L&amp;ai=DChcSEwjHg...</td>\n",
       "      <td>from my pro to this base model so this is real...</td>\n",
       "      <td>4</td>\n",
       "    </tr>\n",
       "    <tr>\n",
       "      <th>3</th>\n",
       "      <td>Apple - MacBook Pro - 16\" Display with Touch B...</td>\n",
       "      <td>4.8</td>\n",
       "      <td>$2,099.99</td>\n",
       "      <td>https://www.google.com/aclk?sa=L&amp;ai=DChcSEwjHg...</td>\n",
       "      <td>pro great upgrade from late from my pro late r...</td>\n",
       "      <td>5</td>\n",
       "    </tr>\n",
       "    <tr>\n",
       "      <th>4</th>\n",
       "      <td>Apple - MacBook Pro - 16\" Display with Touch B...</td>\n",
       "      <td>4.8</td>\n",
       "      <td>$2,099.99</td>\n",
       "      <td>https://www.google.com/aclk?sa=L&amp;ai=DChcSEwjHg...</td>\n",
       "      <td>finally an improvement over my and returned a ...</td>\n",
       "      <td>4</td>\n",
       "    </tr>\n",
       "    <tr>\n",
       "      <th>...</th>\n",
       "      <td>...</td>\n",
       "      <td>...</td>\n",
       "      <td>...</td>\n",
       "      <td>...</td>\n",
       "      <td>...</td>\n",
       "      <td>...</td>\n",
       "    </tr>\n",
       "    <tr>\n",
       "      <th>595</th>\n",
       "      <td>Microsoft Surface Laptop 3 (15\") - Core i5 103...</td>\n",
       "      <td>4.5</td>\n",
       "      <td>$1,499.99</td>\n",
       "      <td>https://www.google.com/aclk?sa=L&amp;ai=DChcSEwjHg...</td>\n",
       "      <td>love the i have used various and this is a gre...</td>\n",
       "      <td>5</td>\n",
       "    </tr>\n",
       "    <tr>\n",
       "      <th>596</th>\n",
       "      <td>Microsoft Surface Laptop 3 (15\") - Core i5 103...</td>\n",
       "      <td>4.5</td>\n",
       "      <td>$1,499.99</td>\n",
       "      <td>https://www.google.com/aclk?sa=L&amp;ai=DChcSEwjHg...</td>\n",
       "      <td>how did i live without you i love this compute...</td>\n",
       "      <td>5</td>\n",
       "    </tr>\n",
       "    <tr>\n",
       "      <th>597</th>\n",
       "      <td>Microsoft Surface Laptop 3 (15\") - Core i5 103...</td>\n",
       "      <td>4.5</td>\n",
       "      <td>$1,499.99</td>\n",
       "      <td>https://www.google.com/aclk?sa=L&amp;ai=DChcSEwjHg...</td>\n",
       "      <td>i bought this computer after endless with my o...</td>\n",
       "      <td>5</td>\n",
       "    </tr>\n",
       "    <tr>\n",
       "      <th>598</th>\n",
       "      <td>Microsoft Surface Laptop 3 (15\") - Core i5 103...</td>\n",
       "      <td>4.5</td>\n",
       "      <td>$1,499.99</td>\n",
       "      <td>https://www.google.com/aclk?sa=L&amp;ai=DChcSEwjHg...</td>\n",
       "      <td>good but not great i am not an expect in but m...</td>\n",
       "      <td>3</td>\n",
       "    </tr>\n",
       "    <tr>\n",
       "      <th>599</th>\n",
       "      <td>Microsoft Surface Laptop 3 (15\") - Core i5 103...</td>\n",
       "      <td>4.5</td>\n",
       "      <td>$1,499.99</td>\n",
       "      <td>https://www.google.com/aclk?sa=L&amp;ai=DChcSEwjHg...</td>\n",
       "      <td>great for i have a surface pro and i it becaus...</td>\n",
       "      <td>5</td>\n",
       "    </tr>\n",
       "  </tbody>\n",
       "</table>\n",
       "<p>600 rows × 6 columns</p>\n",
       "</div>"
      ],
      "text/plain": [
       "                                               listing overall_rating  \\\n",
       "0    Apple - MacBook Pro - 16\" Display with Touch B...            4.8   \n",
       "1    Apple - MacBook Pro - 16\" Display with Touch B...            4.8   \n",
       "2    Apple - MacBook Pro - 16\" Display with Touch B...            4.8   \n",
       "3    Apple - MacBook Pro - 16\" Display with Touch B...            4.8   \n",
       "4    Apple - MacBook Pro - 16\" Display with Touch B...            4.8   \n",
       "..                                                 ...            ...   \n",
       "595  Microsoft Surface Laptop 3 (15\") - Core i5 103...            4.5   \n",
       "596  Microsoft Surface Laptop 3 (15\") - Core i5 103...            4.5   \n",
       "597  Microsoft Surface Laptop 3 (15\") - Core i5 103...            4.5   \n",
       "598  Microsoft Surface Laptop 3 (15\") - Core i5 103...            4.5   \n",
       "599  Microsoft Surface Laptop 3 (15\") - Core i5 103...            4.5   \n",
       "\n",
       "         price                                               link  \\\n",
       "0    $2,099.99  https://www.google.com/aclk?sa=L&ai=DChcSEwjHg...   \n",
       "1    $2,099.99  https://www.google.com/aclk?sa=L&ai=DChcSEwjHg...   \n",
       "2    $2,099.99  https://www.google.com/aclk?sa=L&ai=DChcSEwjHg...   \n",
       "3    $2,099.99  https://www.google.com/aclk?sa=L&ai=DChcSEwjHg...   \n",
       "4    $2,099.99  https://www.google.com/aclk?sa=L&ai=DChcSEwjHg...   \n",
       "..         ...                                                ...   \n",
       "595  $1,499.99  https://www.google.com/aclk?sa=L&ai=DChcSEwjHg...   \n",
       "596  $1,499.99  https://www.google.com/aclk?sa=L&ai=DChcSEwjHg...   \n",
       "597  $1,499.99  https://www.google.com/aclk?sa=L&ai=DChcSEwjHg...   \n",
       "598  $1,499.99  https://www.google.com/aclk?sa=L&ai=DChcSEwjHg...   \n",
       "599  $1,499.99  https://www.google.com/aclk?sa=L&ai=DChcSEwjHg...   \n",
       "\n",
       "                                                review review_ratings  \n",
       "0    almost a home run but pretty decent full discl...              4  \n",
       "1    this is the latest i bought the pro inch on wh...              5  \n",
       "2    from my pro to this base model so this is real...              4  \n",
       "3    pro great upgrade from late from my pro late r...              5  \n",
       "4    finally an improvement over my and returned a ...              4  \n",
       "..                                                 ...            ...  \n",
       "595  love the i have used various and this is a gre...              5  \n",
       "596  how did i live without you i love this compute...              5  \n",
       "597  i bought this computer after endless with my o...              5  \n",
       "598  good but not great i am not an expect in but m...              3  \n",
       "599  great for i have a surface pro and i it becaus...              5  \n",
       "\n",
       "[600 rows x 6 columns]"
      ]
     },
     "execution_count": 43,
     "metadata": {},
     "output_type": "execute_result"
    }
   ],
   "source": [
    "corpus_df"
   ]
  },
  {
   "cell_type": "code",
   "execution_count": 35,
   "metadata": {},
   "outputs": [],
   "source": [
    "corpus_df.to_pickle('laptop_corpus_df.pkl')"
   ]
  },
  {
   "cell_type": "code",
   "execution_count": 36,
   "metadata": {},
   "outputs": [
    {
     "data": {
      "text/plain": [
       "False"
      ]
     },
     "execution_count": 36,
     "metadata": {},
     "output_type": "execute_result"
    }
   ],
   "source": [
    "'' in clean_corpus"
   ]
  },
  {
   "cell_type": "code",
   "execution_count": 37,
   "metadata": {},
   "outputs": [],
   "source": [
    "X, tfidf_tokenizer = text_funcs.tfidf_vectorize(clean_corpus, max_doc_freq=.75)\n",
    "y = corpus_df['review_ratings']"
   ]
  },
  {
   "cell_type": "code",
   "execution_count": 38,
   "metadata": {},
   "outputs": [],
   "source": [
    "X_y = pd.concat([y, X], axis=1)\n",
    "pd.to_pickle( X_y, 'laptop_Xy.pkl')"
   ]
  },
  {
   "cell_type": "code",
   "execution_count": 6,
   "metadata": {},
   "outputs": [
    {
     "data": {
      "text/plain": [
       "(600, 3971)"
      ]
     },
     "execution_count": 6,
     "metadata": {},
     "output_type": "execute_result"
    }
   ],
   "source": [
    "X.shape"
   ]
  },
  {
   "cell_type": "code",
   "execution_count": 7,
   "metadata": {},
   "outputs": [
    {
     "data": {
      "text/html": [
       "<div>\n",
       "<style scoped>\n",
       "    .dataframe tbody tr th:only-of-type {\n",
       "        vertical-align: middle;\n",
       "    }\n",
       "\n",
       "    .dataframe tbody tr th {\n",
       "        vertical-align: top;\n",
       "    }\n",
       "\n",
       "    .dataframe thead th {\n",
       "        text-align: right;\n",
       "    }\n",
       "</style>\n",
       "<table border=\"1\" class=\"dataframe\">\n",
       "  <thead>\n",
       "    <tr style=\"text-align: right;\">\n",
       "      <th></th>\n",
       "      <th>ability</th>\n",
       "      <th>able</th>\n",
       "      <th>abound</th>\n",
       "      <th>abrupt</th>\n",
       "      <th>absolute</th>\n",
       "      <th>absolutely</th>\n",
       "      <th>absurd</th>\n",
       "      <th>abundance</th>\n",
       "      <th>abuse</th>\n",
       "      <th>abysmal</th>\n",
       "      <th>...</th>\n",
       "      <th>yesterday</th>\n",
       "      <th>yoga</th>\n",
       "      <th>york</th>\n",
       "      <th>youd</th>\n",
       "      <th>youve</th>\n",
       "      <th>yr</th>\n",
       "      <th>zephyrus</th>\n",
       "      <th>zero</th>\n",
       "      <th>zippy</th>\n",
       "      <th>zoom</th>\n",
       "    </tr>\n",
       "  </thead>\n",
       "  <tbody>\n",
       "    <tr>\n",
       "      <th>0</th>\n",
       "      <td>0.0</td>\n",
       "      <td>0.102805</td>\n",
       "      <td>0.0</td>\n",
       "      <td>0.0</td>\n",
       "      <td>0.0</td>\n",
       "      <td>0.000000</td>\n",
       "      <td>0.0</td>\n",
       "      <td>0.0</td>\n",
       "      <td>0.0</td>\n",
       "      <td>0.0</td>\n",
       "      <td>...</td>\n",
       "      <td>0.0</td>\n",
       "      <td>0.0</td>\n",
       "      <td>0.0</td>\n",
       "      <td>0.0</td>\n",
       "      <td>0.0</td>\n",
       "      <td>0.0</td>\n",
       "      <td>0.0</td>\n",
       "      <td>0.0</td>\n",
       "      <td>0.0</td>\n",
       "      <td>0.0</td>\n",
       "    </tr>\n",
       "    <tr>\n",
       "      <th>1</th>\n",
       "      <td>0.0</td>\n",
       "      <td>0.032795</td>\n",
       "      <td>0.0</td>\n",
       "      <td>0.0</td>\n",
       "      <td>0.0</td>\n",
       "      <td>0.000000</td>\n",
       "      <td>0.0</td>\n",
       "      <td>0.0</td>\n",
       "      <td>0.0</td>\n",
       "      <td>0.0</td>\n",
       "      <td>...</td>\n",
       "      <td>0.0</td>\n",
       "      <td>0.0</td>\n",
       "      <td>0.0</td>\n",
       "      <td>0.0</td>\n",
       "      <td>0.0</td>\n",
       "      <td>0.0</td>\n",
       "      <td>0.0</td>\n",
       "      <td>0.0</td>\n",
       "      <td>0.0</td>\n",
       "      <td>0.0</td>\n",
       "    </tr>\n",
       "    <tr>\n",
       "      <th>2</th>\n",
       "      <td>0.0</td>\n",
       "      <td>0.000000</td>\n",
       "      <td>0.0</td>\n",
       "      <td>0.0</td>\n",
       "      <td>0.0</td>\n",
       "      <td>0.000000</td>\n",
       "      <td>0.0</td>\n",
       "      <td>0.0</td>\n",
       "      <td>0.0</td>\n",
       "      <td>0.0</td>\n",
       "      <td>...</td>\n",
       "      <td>0.0</td>\n",
       "      <td>0.0</td>\n",
       "      <td>0.0</td>\n",
       "      <td>0.0</td>\n",
       "      <td>0.0</td>\n",
       "      <td>0.0</td>\n",
       "      <td>0.0</td>\n",
       "      <td>0.0</td>\n",
       "      <td>0.0</td>\n",
       "      <td>0.0</td>\n",
       "    </tr>\n",
       "    <tr>\n",
       "      <th>3</th>\n",
       "      <td>0.0</td>\n",
       "      <td>0.000000</td>\n",
       "      <td>0.0</td>\n",
       "      <td>0.0</td>\n",
       "      <td>0.0</td>\n",
       "      <td>0.000000</td>\n",
       "      <td>0.0</td>\n",
       "      <td>0.0</td>\n",
       "      <td>0.0</td>\n",
       "      <td>0.0</td>\n",
       "      <td>...</td>\n",
       "      <td>0.0</td>\n",
       "      <td>0.0</td>\n",
       "      <td>0.0</td>\n",
       "      <td>0.0</td>\n",
       "      <td>0.0</td>\n",
       "      <td>0.0</td>\n",
       "      <td>0.0</td>\n",
       "      <td>0.0</td>\n",
       "      <td>0.0</td>\n",
       "      <td>0.0</td>\n",
       "    </tr>\n",
       "    <tr>\n",
       "      <th>4</th>\n",
       "      <td>0.0</td>\n",
       "      <td>0.138498</td>\n",
       "      <td>0.0</td>\n",
       "      <td>0.0</td>\n",
       "      <td>0.0</td>\n",
       "      <td>0.058973</td>\n",
       "      <td>0.0</td>\n",
       "      <td>0.0</td>\n",
       "      <td>0.0</td>\n",
       "      <td>0.0</td>\n",
       "      <td>...</td>\n",
       "      <td>0.0</td>\n",
       "      <td>0.0</td>\n",
       "      <td>0.0</td>\n",
       "      <td>0.0</td>\n",
       "      <td>0.0</td>\n",
       "      <td>0.0</td>\n",
       "      <td>0.0</td>\n",
       "      <td>0.0</td>\n",
       "      <td>0.0</td>\n",
       "      <td>0.0</td>\n",
       "    </tr>\n",
       "  </tbody>\n",
       "</table>\n",
       "<p>5 rows × 3971 columns</p>\n",
       "</div>"
      ],
      "text/plain": [
       "   ability      able  abound  abrupt  absolute  absolutely  absurd  abundance  \\\n",
       "0      0.0  0.102805     0.0     0.0       0.0    0.000000     0.0        0.0   \n",
       "1      0.0  0.032795     0.0     0.0       0.0    0.000000     0.0        0.0   \n",
       "2      0.0  0.000000     0.0     0.0       0.0    0.000000     0.0        0.0   \n",
       "3      0.0  0.000000     0.0     0.0       0.0    0.000000     0.0        0.0   \n",
       "4      0.0  0.138498     0.0     0.0       0.0    0.058973     0.0        0.0   \n",
       "\n",
       "   abuse  abysmal  ...  yesterday  yoga  york  youd  youve   yr  zephyrus  \\\n",
       "0    0.0      0.0  ...        0.0   0.0   0.0   0.0    0.0  0.0       0.0   \n",
       "1    0.0      0.0  ...        0.0   0.0   0.0   0.0    0.0  0.0       0.0   \n",
       "2    0.0      0.0  ...        0.0   0.0   0.0   0.0    0.0  0.0       0.0   \n",
       "3    0.0      0.0  ...        0.0   0.0   0.0   0.0    0.0  0.0       0.0   \n",
       "4    0.0      0.0  ...        0.0   0.0   0.0   0.0    0.0  0.0       0.0   \n",
       "\n",
       "   zero  zippy  zoom  \n",
       "0   0.0    0.0   0.0  \n",
       "1   0.0    0.0   0.0  \n",
       "2   0.0    0.0   0.0  \n",
       "3   0.0    0.0   0.0  \n",
       "4   0.0    0.0   0.0  \n",
       "\n",
       "[5 rows x 3971 columns]"
      ]
     },
     "execution_count": 7,
     "metadata": {},
     "output_type": "execute_result"
    }
   ],
   "source": [
    "X.head()"
   ]
  },
  {
   "cell_type": "code",
   "execution_count": 8,
   "metadata": {},
   "outputs": [
    {
     "name": "stderr",
     "output_type": "stream",
     "text": [
      "*c* argument looks like a single numeric RGB or RGBA sequence, which should be avoided as value-mapping will have precedence in case its length matches with *x* & *y*.  Please use the *color* keyword-argument or provide a 2-D array with a single row if you intend to specify the same RGB or RGBA value for all points.\n",
      "*c* argument looks like a single numeric RGB or RGBA sequence, which should be avoided as value-mapping will have precedence in case its length matches with *x* & *y*.  Please use the *color* keyword-argument or provide a 2-D array with a single row if you intend to specify the same RGB or RGBA value for all points.\n",
      "*c* argument looks like a single numeric RGB or RGBA sequence, which should be avoided as value-mapping will have precedence in case its length matches with *x* & *y*.  Please use the *color* keyword-argument or provide a 2-D array with a single row if you intend to specify the same RGB or RGBA value for all points.\n",
      "*c* argument looks like a single numeric RGB or RGBA sequence, which should be avoided as value-mapping will have precedence in case its length matches with *x* & *y*.  Please use the *color* keyword-argument or provide a 2-D array with a single row if you intend to specify the same RGB or RGBA value for all points.\n",
      "*c* argument looks like a single numeric RGB or RGBA sequence, which should be avoided as value-mapping will have precedence in case its length matches with *x* & *y*.  Please use the *color* keyword-argument or provide a 2-D array with a single row if you intend to specify the same RGB or RGBA value for all points.\n"
     ]
    },
    {
     "data": {
      "image/png": "[encoded data removed]",
      "text/plain": [
       "<Figure size 576x396 with 1 Axes>"
      ]
     },
     "metadata": {},
     "output_type": "display_data"
    }
   ],
   "source": [
    "tsne = TSNEVisualizer()\n",
    "tsne.fit(X, y)\n",
    "tsne.show();"
   ]
  },
  {
   "cell_type": "markdown",
   "metadata": {},
   "source": [
    "Now that my data is clean, I'll start trying to project my data down to a lower dimension. "
   ]
  },
  {
   "cell_type": "code",
   "execution_count": 9,
   "metadata": {},
   "outputs": [],
   "source": [
    "from sklearn.model_selection import train_test_split\n",
    "X_train, X_test, y_train, y_test = train_test_split(X, y)"
   ]
  },
  {
   "cell_type": "code",
   "execution_count": 10,
   "metadata": {},
   "outputs": [
    {
     "name": "stdout",
     "output_type": "stream",
     "text": [
      "[0.01797756 0.01228258]\n"
     ]
    },
    {
     "data": {
      "image/png": "[encoded data removed]",
      "text/plain": [
       "<Figure size 576x396 with 1 Axes>"
      ]
     },
     "metadata": {},
     "output_type": "display_data"
    }
   ],
   "source": [
    "from sklearn.decomposition import PCA\n",
    "import seaborn as sns\n",
    "sns.set(style='white')\n",
    "pca = PCA(n_components = 2).fit(X_train)\n",
    "X2D_reduced = pca.transform(X_train)\n",
    "print(pca.explained_variance_ratio_)\n",
    "comp_1 = X2D_reduced[:,0]\n",
    "comp_2 = X2D_reduced[:,1]\n",
    "sns.despine()\n",
    "sns.scatterplot(comp_1, comp_2, hue=y_train, palette=sns.color_palette('coolwarm', n_colors=5));\n",
    "#wow! our data is relatively seperated! Let's try some other projections.\n",
    "#however, we're only capturing about .03 percent of the total explained variance, \n",
    "#let's take a look at a 3 dimensional projection, ideally, this would split\n",
    "#our target up into positive, negative, and neutral classes."
   ]
  },
  {
   "cell_type": "code",
   "execution_count": 11,
   "metadata": {},
   "outputs": [
    {
     "name": "stdout",
     "output_type": "stream",
     "text": [
      "[0.01797756 0.01228301 0.01055974]\n"
     ]
    }
   ],
   "source": [
    "pca = PCA(n_components = 3).fit(X_train)\n",
    "X3D_reduced = pca.transform(X_train)\n",
    "print(pca.explained_variance_ratio_)\n",
    "comp_1 = X3D_reduced[:,0]\n",
    "comp_2 = X3D_reduced[:,1]\n",
    "comp_3 = X3D_reduced[:,2]\n"
   ]
  },
  {
   "cell_type": "code",
   "execution_count": null,
   "metadata": {},
   "outputs": [],
   "source": []
  }
 ],
 "metadata": {
  "kernelspec": {
   "display_name": "Python [conda env:metis] *",
   "language": "python",
   "name": "conda-env-metis-py"
  },
  "language_info": {
   "codemirror_mode": {
    "name": "ipython",
    "version": 3
   },
   "file_extension": ".py",
   "mimetype": "text/x-python",
   "name": "python",
   "nbconvert_exporter": "python",
   "pygments_lexer": "ipython3",
   "version": "3.8.3"
  },
  "varInspector": {
   "cols": {
    "lenName": 16,
    "lenType": 16,
    "lenVar": 40
   },
   "kernels_config": {
    "python": {
     "delete_cmd_postfix": "",
     "delete_cmd_prefix": "del ",
     "library": "var_list.py",
     "varRefreshCmd": "print(var_dic_list())"
    },
    "r": {
     "delete_cmd_postfix": ") ",
     "delete_cmd_prefix": "rm(",
     "library": "var_list.r",
     "varRefreshCmd": "cat(var_dic_list()) "
    }
   },
   "oldHeight": 122.850334,
   "position": {
    "height": "40px",
    "left": "401px",
    "right": "20px",
    "top": "120px",
    "width": "350px"
   },
   "types_to_exclude": [
    "module",
    "function",
    "builtin_function_or_method",
    "instance",
    "_Feature"
   ],
   "varInspector_section_display": "none",
   "window_display": true
  }
 },
 "nbformat": 4,
 "nbformat_minor": 4
}
