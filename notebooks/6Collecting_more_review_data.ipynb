{
 "cells": [
  {
   "cell_type": "code",
   "execution_count": 8,
   "metadata": {},
   "outputs": [],
   "source": [
    "from pyfuncs import scraper\n",
    "from time import sleep\n",
    "import pandas as pd"
   ]
  },
  {
   "cell_type": "code",
   "execution_count": 9,
   "metadata": {},
   "outputs": [],
   "source": [
    "search_terms = ['delay pedal', 'wah pedal', 'octave pedal']"
   ]
  },
  {
   "cell_type": "code",
   "execution_count": 10,
   "metadata": {},
   "outputs": [
    {
     "name": "stdout",
     "output_type": "stream",
     "text": [
      "page 1 is done!\n",
      "page 2 is done!\n",
      "page 3 is done!\n",
      "page 4 is done!\n",
      "page 5 is done!\n",
      "page 6 is done!\n",
      "page 7 is done!\n",
      "page 8 is done!\n",
      "page 9 is done!\n",
      "page 10 is done!\n",
      "page 1 is done!\n",
      "page 2 is done!\n",
      "page 3 is done!\n",
      "page 4 is done!\n",
      "page 5 is done!\n",
      "page 6 is done!\n",
      "page 7 is done!\n",
      "page 8 is done!\n",
      "page 9 is done!\n",
      "page 10 is done!\n",
      "page 1 is done!\n",
      "page 2 is done!\n",
      "page 3 is done!\n",
      "page 4 is done!\n",
      "page 5 is done!\n",
      "page 6 is done!\n",
      "page 7 is done!\n",
      "page 8 is done!\n",
      "page 9 is done!\n",
      "page 10 is done!\n"
     ]
    }
   ],
   "source": [
    "for term in search_terms:\n",
    "    try:\n",
    "        Shopper = scraper.Google_Shopping_Scraper(term, n_reviews=200, n_pages=10)\n",
    "        sleep(10)\n",
    "    except:\n",
    "        print('retrying search')\n",
    "        sleep(1)\n",
    "        Shopper.driver.close()\n",
    "        sleep(1)\n",
    "        Shopper = scraper.Google_Shopping_Scraper(term, n_reviews=200, n_pages=10)\n",
    "    Shopper.get_all_pages()\n",
    "    corpus_df = pd.DataFrame(Shopper.all_reviews)\n",
    "    term = term.replace(' ','_')\n",
    "    corpus_df.to_pickle(f'{term}.pkl')\n",
    "    Shopper.driver.close()"
   ]
  },
  {
   "cell_type": "code",
   "execution_count": 18,
   "metadata": {},
   "outputs": [
    {
     "data": {
      "text/plain": [
       "[\"TC Electronic Sub 'N' Up Octaver Pedal with TonePrint\",\n",
       " \"TC Electronic Sub 'N' Up Octaver Pedal with TonePrint\",\n",
       " \"TC Electronic Sub 'N' Up Octaver Pedal with TonePrint\",\n",
       " \"TC Electronic Sub 'N' Up Octaver Pedal with TonePrint\",\n",
       " \"TC Electronic Sub 'N' Up Octaver Pedal with TonePrint\",\n",
       " \"TC Electronic Sub 'N' Up Octaver Pedal with TonePrint\",\n",
       " \"TC Electronic Sub 'N' Up Octaver Pedal with TonePrint\",\n",
       " \"TC Electronic Sub 'N' Up Octaver Pedal with TonePrint\",\n",
       " \"TC Electronic Sub 'N' Up Octaver Pedal with TonePrint\",\n",
       " \"TC Electronic Sub 'N' Up Octaver Pedal with TonePrint\",\n",
       " \"TC Electronic Sub 'N' Up Octaver Pedal with TonePrint\",\n",
       " \"TC Electronic Sub 'N' Up Octaver Pedal with TonePrint\",\n",
       " \"TC Electronic Sub 'N' Up Octaver Pedal with TonePrint\",\n",
       " \"TC Electronic Sub 'N' Up Octaver Pedal with TonePrint\",\n",
       " \"TC Electronic Sub 'N' Up Octaver Pedal with TonePrint\",\n",
       " \"TC Electronic Sub 'N' Up Octaver Pedal with TonePrint\",\n",
       " \"TC Electronic Sub 'N' Up Octaver Pedal with TonePrint\",\n",
       " \"TC Electronic Sub 'N' Up Octaver Pedal with TonePrint\",\n",
       " \"TC Electronic Sub 'N' Up Octaver Pedal with TonePrint\",\n",
       " \"TC Electronic Sub 'N' Up Octaver Pedal with TonePrint\",\n",
       " \"TC Electronic Sub 'N' Up Octaver Pedal with TonePrint\",\n",
       " \"TC Electronic Sub 'N' Up Octaver Pedal with TonePrint\",\n",
       " \"TC Electronic Sub 'N' Up Octaver Pedal with TonePrint\",\n",
       " \"TC Electronic Sub 'N' Up Octaver Pedal with TonePrint\",\n",
       " \"TC Electronic Sub 'N' Up Octaver Pedal with TonePrint\",\n",
       " 'MXR M280 Vintage Bass Octave',\n",
       " 'MXR M280 Vintage Bass Octave',\n",
       " 'MXR M280 Vintage Bass Octave',\n",
       " 'MXR M280 Vintage Bass Octave',\n",
       " 'DigiTech Whammy Ricochet Guitar Effects Pedal - Harmonizer & Octave Effects Pedals - Effects - WHAMMYRICOCHET-U',\n",
       " 'DigiTech Whammy Ricochet Guitar Effects Pedal - Harmonizer & Octave Effects Pedals - Effects - WHAMMYRICOCHET-U',\n",
       " 'DigiTech Whammy Ricochet Guitar Effects Pedal - Harmonizer & Octave Effects Pedals - Effects - WHAMMYRICOCHET-U',\n",
       " 'DigiTech Whammy Ricochet Guitar Effects Pedal - Harmonizer & Octave Effects Pedals - Effects - WHAMMYRICOCHET-U',\n",
       " 'DigiTech Whammy Ricochet Guitar Effects Pedal - Harmonizer & Octave Effects Pedals - Effects - WHAMMYRICOCHET-U',\n",
       " 'DigiTech Whammy Ricochet Guitar Effects Pedal - Harmonizer & Octave Effects Pedals - Effects - WHAMMYRICOCHET-U',\n",
       " 'DigiTech Whammy Ricochet Guitar Effects Pedal - Harmonizer & Octave Effects Pedals - Effects - WHAMMYRICOCHET-U',\n",
       " 'DigiTech Whammy Ricochet Guitar Effects Pedal - Harmonizer & Octave Effects Pedals - Effects - WHAMMYRICOCHET-U',\n",
       " 'DigiTech Whammy Ricochet Guitar Effects Pedal - Harmonizer & Octave Effects Pedals - Effects - WHAMMYRICOCHET-U',\n",
       " 'DigiTech Whammy Ricochet Guitar Effects Pedal - Harmonizer & Octave Effects Pedals - Effects - WHAMMYRICOCHET-U',\n",
       " 'Walrus Audio Descent - Effects unit for guitar',\n",
       " 'Walrus Audio Descent - Effects unit for guitar',\n",
       " 'Walrus Audio Descent - Effects unit for guitar',\n",
       " 'Walrus Audio Descent - Effects unit for guitar',\n",
       " 'Walrus Audio Descent - Effects unit for guitar',\n",
       " 'Walrus Audio Descent - Effects unit for guitar',\n",
       " 'Walrus Audio Descent - Effects unit for guitar',\n",
       " 'Walrus Audio Descent - Effects unit for guitar',\n",
       " 'Walrus Audio Descent - Effects unit for guitar',\n",
       " 'Walrus Audio Descent - Effects unit for guitar',\n",
       " 'Walrus Audio Descent - Effects unit for guitar',\n",
       " 'Walrus Audio Descent - Effects unit for guitar',\n",
       " 'Mooer Tender Octaver',\n",
       " 'Mooer Tender Octaver',\n",
       " 'Mooer Tender Octaver',\n",
       " 'Mooer Tender Octaver',\n",
       " 'Mooer Tender Octaver',\n",
       " 'Mooer Tender Octaver',\n",
       " 'Mooer Tender Octaver',\n",
       " 'Mooer Tender Octaver',\n",
       " 'Mooer Tender Octaver',\n",
       " 'Hotone Skyline OCTA Digital Octave Pedal',\n",
       " 'Hotone Skyline OCTA Digital Octave Pedal',\n",
       " 'Hotone Skyline OCTA Digital Octave Pedal',\n",
       " 'Hotone Skyline OCTA Digital Octave Pedal',\n",
       " 'Hotone Skyline OCTA Digital Octave Pedal',\n",
       " 'Hotone Skyline OCTA Digital Octave Pedal',\n",
       " 'Hotone Skyline OCTA Digital Octave Pedal',\n",
       " 'Hotone Skyline OCTA Digital Octave Pedal',\n",
       " 'Behringer Guitar Effects Ultra Octaver Uo300',\n",
       " 'Behringer Guitar Effects Ultra Octaver Uo300',\n",
       " 'Behringer Guitar Effects Ultra Octaver Uo300',\n",
       " 'Behringer Guitar Effects Ultra Octaver Uo300',\n",
       " 'Behringer Guitar Effects Ultra Octaver Uo300',\n",
       " 'Behringer Guitar Effects Ultra Octaver Uo300',\n",
       " 'Behringer Guitar Effects Ultra Octaver Uo300',\n",
       " 'Behringer Guitar Effects Ultra Octaver Uo300',\n",
       " 'Behringer Guitar Effects Ultra Octaver Uo300',\n",
       " 'Behringer Guitar Effects Ultra Octaver Uo300',\n",
       " 'Behringer Guitar Effects Ultra Octaver Uo300',\n",
       " 'Behringer Guitar Effects Ultra Octaver Uo300',\n",
       " 'Behringer Guitar Effects Ultra Octaver Uo300',\n",
       " 'Behringer Guitar Effects Ultra Octaver Uo300',\n",
       " 'Behringer Guitar Effects Ultra Octaver Uo300',\n",
       " 'Behringer Guitar Effects Ultra Octaver Uo300',\n",
       " 'Behringer Guitar Effects Ultra Octaver Uo300',\n",
       " 'Behringer Guitar Effects Ultra Octaver Uo300',\n",
       " 'Behringer Guitar Effects Ultra Octaver Uo300',\n",
       " 'Behringer Guitar Effects Ultra Octaver Uo300',\n",
       " 'Behringer Guitar Effects Ultra Octaver Uo300',\n",
       " 'Behringer Guitar Effects Ultra Octaver Uo300',\n",
       " 'Behringer Guitar Effects Ultra Octaver Uo300',\n",
       " 'Behringer Guitar Effects Ultra Octaver Uo300',\n",
       " 'Behringer Guitar Effects Ultra Octaver Uo300',\n",
       " 'EarthQuaker Devices Tentacle Analog Octave Up',\n",
       " 'EarthQuaker Devices Tentacle Analog Octave Up',\n",
       " 'EarthQuaker Devices Tentacle Analog Octave Up',\n",
       " 'EarthQuaker Devices Tentacle Analog Octave Up',\n",
       " 'EarthQuaker Devices Tentacle Analog Octave Up',\n",
       " 'EarthQuaker Devices Tentacle Analog Octave Up',\n",
       " 'EarthQuaker Devices Tentacle Analog Octave Up']"
      ]
     },
     "execution_count": 18,
     "metadata": {},
     "output_type": "execute_result"
    }
   ],
   "source": [
    "Shopper.all_reviews['listing'][-100::]"
   ]
  },
  {
   "cell_type": "code",
   "execution_count": 37,
   "metadata": {},
   "outputs": [
    {
     "name": "stdout",
     "output_type": "stream",
     "text": [
      "listing\n",
      "1100\n",
      "overall_rating\n",
      "1100\n",
      "price\n",
      "1100\n",
      "link\n",
      "1100\n",
      "review\n",
      "1100\n",
      "review_ratings\n",
      "1100\n"
     ]
    }
   ],
   "source": [
    "for key in Shopper.all_reviews:\n",
    "    print(key)\n",
    "    print(len(Shopper.all_reviews[key]))"
   ]
  },
  {
   "cell_type": "code",
   "execution_count": 35,
   "metadata": {},
   "outputs": [],
   "source": [
    "del Shopper.all_reviews['reviews']\n",
    "del Shopper.all_reviews['review_rating']\n",
    "del Shopper.all_reviews[0]"
   ]
  },
  {
   "cell_type": "code",
   "execution_count": 4,
   "metadata": {},
   "outputs": [
    {
     "ename": "AttributeError",
     "evalue": "'WebDriver' object has no attribute 'get_all_elements_by_css_selector'",
     "output_type": "error",
     "traceback": [
      "\u001b[0;31m---------------------------------------------------------------------------\u001b[0m",
      "\u001b[0;31mAttributeError\u001b[0m                            Traceback (most recent call last)",
      "\u001b[0;32m<ipython-input-4-18e0c2c54950>\u001b[0m in \u001b[0;36m<module>\u001b[0;34m\u001b[0m\n\u001b[0;32m----> 1\u001b[0;31m \u001b[0mShopper\u001b[0m\u001b[0;34m.\u001b[0m\u001b[0mdriver\u001b[0m\u001b[0;34m.\u001b[0m\u001b[0mget_all_elements_by_css_selector\u001b[0m\u001b[0;34m(\u001b[0m\u001b[0;34m'[aria-label = page 1]'\u001b[0m\u001b[0;34m)\u001b[0m\u001b[0;34m\u001b[0m\u001b[0;34m\u001b[0m\u001b[0m\n\u001b[0m",
      "\u001b[0;31mAttributeError\u001b[0m: 'WebDriver' object has no attribute 'get_all_elements_by_css_selector'"
     ]
    }
   ],
   "source": [
    "Shopper.driver.get_all_elements_by_css_selector('[aria-label = page 1]')"
   ]
  },
  {
   "cell_type": "code",
   "execution_count": 38,
   "metadata": {},
   "outputs": [],
   "source": [
    "corpus_df = pd.DataFrame(Shopper.all_reviews)\n",
    "term = term.replace(' ','_')\n",
    "corpus_df.to_pickle(f'{term}.pkl')\n",
    "Shopper.driver.close()"
   ]
  },
  {
   "cell_type": "code",
   "execution_count": null,
   "metadata": {},
   "outputs": [],
   "source": []
  }
 ],
 "metadata": {
  "kernelspec": {
   "display_name": "Python [conda env:metis] *",
   "language": "python",
   "name": "conda-env-metis-py"
  },
  "language_info": {
   "codemirror_mode": {
    "name": "ipython",
    "version": 3
   },
   "file_extension": ".py",
   "mimetype": "text/x-python",
   "name": "python",
   "nbconvert_exporter": "python",
   "pygments_lexer": "ipython3",
   "version": "3.8.3"
  },
  "varInspector": {
   "cols": {
    "lenName": 16,
    "lenType": 16,
    "lenVar": 40
   },
   "kernels_config": {
    "python": {
     "delete_cmd_postfix": "",
     "delete_cmd_prefix": "del ",
     "library": "var_list.py",
     "varRefreshCmd": "print(var_dic_list())"
    },
    "r": {
     "delete_cmd_postfix": ") ",
     "delete_cmd_prefix": "rm(",
     "library": "var_list.r",
     "varRefreshCmd": "cat(var_dic_list()) "
    }
   },
   "oldHeight": 122.85,
   "position": {
    "height": "40px",
    "left": "673px",
    "right": "20px",
    "top": "19px",
    "width": "250px"
   },
   "types_to_exclude": [
    "module",
    "function",
    "builtin_function_or_method",
    "instance",
    "_Feature"
   ],
   "varInspector_section_display": "none",
   "window_display": true
  }
 },
 "nbformat": 4,
 "nbformat_minor": 4
}
